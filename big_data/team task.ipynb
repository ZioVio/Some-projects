{
 "cells": [
  {
   "cell_type": "code",
   "execution_count": 58,
   "metadata": {},
   "outputs": [],
   "source": [
    "def snake(size):\n",
    "    matrix = []\n",
    "    for i in range(size):\n",
    "        matrix.append([])\n",
    "        for j in range(size):\n",
    "            matrix[i].append(0)\n",
    "    right = size - 1\n",
    "    left = 0\n",
    "    up = 0\n",
    "    down = size - 1 \n",
    "    counter = 0\n",
    "    while(left <= right and up <= down):\n",
    "        for i in range(left, right + 1):\n",
    "            matrix[i][up] = counter\n",
    "            counter += 1\n",
    "        up += 1\n",
    "        for i in range(up, down + 1):\n",
    "            matrix[right][i] = counter\n",
    "            counter += 1\n",
    "        right -= 1\n",
    "        for i in range(right, left - 1, -1):\n",
    "            matrix[i][down] = counter\n",
    "            counter += 1\n",
    "        down -= 1\n",
    "        for i in range(down, up - 1, -1):\n",
    "            matrix[left][i] = counter\n",
    "            counter += 1\n",
    "        left += 1\n",
    "            \n",
    "    for i in range(size):\n",
    "        for j in range(size):\n",
    "            print(\"{} \".format(matrix[i][j]), end = ' ')\n",
    "        print(\"\")\n",
    "    "
   ]
  },
  {
   "cell_type": "code",
   "execution_count": 59,
   "metadata": {},
   "outputs": [
    {
     "name": "stdout",
     "output_type": "stream",
     "text": [
      "0  35  34  33  32  31  30  29  28  27  \n",
      "1  36  63  62  61  60  59  58  57  26  \n",
      "2  37  64  83  82  81  80  79  56  25  \n",
      "3  38  65  84  95  94  93  78  55  24  \n",
      "4  39  66  85  96  99  92  77  54  23  \n",
      "5  40  67  86  97  98  91  76  53  22  \n",
      "6  41  68  87  88  89  90  75  52  21  \n",
      "7  42  69  70  71  72  73  74  51  20  \n",
      "8  43  44  45  46  47  48  49  50  19  \n",
      "9  10  11  12  13  14  15  16  17  18  \n"
     ]
    }
   ],
   "source": [
    "snake(10)"
   ]
  },
  {
   "cell_type": "code",
   "execution_count": null,
   "metadata": {},
   "outputs": [],
   "source": []
  },
  {
   "cell_type": "code",
   "execution_count": null,
   "metadata": {},
   "outputs": [],
   "source": []
  },
  {
   "cell_type": "code",
   "execution_count": null,
   "metadata": {},
   "outputs": [],
   "source": []
  },
  {
   "cell_type": "code",
   "execution_count": null,
   "metadata": {},
   "outputs": [],
   "source": []
  }
 ],
 "metadata": {
  "kernelspec": {
   "display_name": "Python 3",
   "language": "python",
   "name": "python3"
  },
  "language_info": {
   "codemirror_mode": {
    "name": "ipython",
    "version": 3
   },
   "file_extension": ".py",
   "mimetype": "text/x-python",
   "name": "python",
   "nbconvert_exporter": "python",
   "pygments_lexer": "ipython3",
   "version": "3.6.7"
  }
 },
 "nbformat": 4,
 "nbformat_minor": 2
}
